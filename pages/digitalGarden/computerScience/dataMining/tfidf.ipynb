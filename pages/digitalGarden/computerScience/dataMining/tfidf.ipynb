{
 "cells": [
  {
   "cell_type": "raw",
   "metadata": {
    "pycharm": {
     "name": "#%% raw\n"
    }
   },
   "source": [
    "---\n",
    "title: TF-IDF\n",
    "tags: [tfidf, nlp]\n",
    "---\n"
   ]
  },
  {
   "cell_type": "markdown",
   "metadata": {
    "pycharm": {
     "name": "#%% md\n"
    }
   },
   "source": [
    "There are lots of use cases where we want to be able to find out which words are the most important to a document in a collection or corpus of documents. Or in other words, which words add the most value to the document. Some possible applications for these measurements are search engines like Google or DuckDuckGo.\n",
    "\n",
    "The most famous and widely used measurement for finding the importance of a word in a document is called TF-IDF. TF-IDF has two components the TF (term frequency) and IDF (inverse document frequency).\n",
    "\n",
    "### Term Frequency\n",
    "\n",
    "The main idea of TF is that a word is important to a document if the word occurs frequently. So if we for example have a set of documents and want to find out which documents are the most relevant to the search query, \"the offside rule\" (i.e documents relating to football rules). A simple way to start would be to eliminate all documents that do not contain all three words \"the\", \"offside\" and \"rule\", however this still leaves many documents that might not be relevant. To further distinguish between relative and non-relative documents, we can count the number of times each word occurs in each document, this is the so-called term frequency. However, longer documents could then have a greater term frequency then other documents although that word/term might not be as relevant for the document as for others.\n",
    "\n",
    "To solve this the relative frequency is taken instead of the absolute frequency i.e the nominator is the raw count of the term $t$ in the document $d$ and the denominator is simply the total number of terms in document $d$.\n",
    "\n",
    "$$\\mathrm{tf}(t,d) = \\frac{f_{t,d}}{\\sum_{t'\\in d}{f_{t',d}}}$$\n",
    "\n",
    "There are also some common alternatives for example using the highest frequency as the denominator.\n",
    "\n",
    "$$\\mathrm{tf}(t,d) = \\frac{f_{t,d}}{\\mathrm{max}(f_{t',d}: t'd \\in d)}$$\n",
    "\n",
    "With the introduction of a hyperparameter $k$ you have the so-called augmented term frequency which is also commonly seen with $k=0.5$ for shorter documents.\n",
    "\n",
    "$$\\mathrm{tf}(t,d) = k + (1-k) \\frac{f_{t,d}}{\\mathrm{max}(f_{t',d}: t'd \\in d)}$$\n",
    "\n",
    "### Inverse Document Frequency\n",
    "\n",
    "The IDF measures how much information a word provides i.e. if it is common or rare across all documents. For example the word \"the\" is very common so TF alone might incorrectly rank documents which have the word \"the\" more frequently higher then other documents. So the word \"the\" is not a good keyword to distinguish relevant and non-relevant documents and words compared to \"offside\" and \"rules\". To avoid this an inverse document frequency factor is used which adds a higher weight to the words that occur rarely.\n",
    "\n",
    "So for the corpus of documents $D$ with $|D|=N$ being the number of documents in the corpus and $n_t$ being the number of documents the term $t$ occurs in the inverse document frequency can be defined as:\n",
    "\n",
    "$$\\mathrm{idf}(t, D) = \\log{\\frac{N}{n_t}}$$\n",
    "\n",
    "To avoid division by zero also commonly changed to:\n",
    "\n",
    "$$\\mathrm{idf}(t, D) = \\log{\\frac{N}{1 + n_t}}$$\n",
    "\n",
    "We can then finally combine the two components to form the TF-IDF score of a term $t$ in the document $d$ of corpus $D$ :\n",
    "\n",
    "$$\\mathrm{tfidf}(t,d,D)=\\mathrm{tf}(t,d) \\cdot \\mathrm{idf}(t,D)$$"
   ]
  },
  {
   "cell_type": "code",
   "execution_count": null,
   "metadata": {
    "collapsed": false,
    "jupyter": {
     "outputs_hidden": false
    },
    "pycharm": {
     "name": "#%%\n"
    }
   },
   "outputs": [],
   "source": []
  }
 ],
 "metadata": {
  "kernelspec": {
   "display_name": "Python 3.8.9 ('.venv': venv)",
   "language": "python",
   "name": "python3"
  },
  "language_info": {
   "codemirror_mode": {
    "name": "ipython",
    "version": 3
   },
   "file_extension": ".py",
   "mimetype": "text/x-python",
   "name": "python",
   "nbconvert_exporter": "python",
   "pygments_lexer": "ipython3",
   "version": "3.8.9"
  },
  "vscode": {
   "interpreter": {
    "hash": "c4874554c910ab0571857260f9b3a2c29827abeee32c252ce8c2203a14b689e2"
   }
  }
 },
 "nbformat": 4,
 "nbformat_minor": 4
}
