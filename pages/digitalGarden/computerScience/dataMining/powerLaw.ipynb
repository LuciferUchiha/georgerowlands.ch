{
 "cells": [
  {
   "cell_type": "raw",
   "metadata": {
    "pycharm": {
     "name": "#%% raw\n"
    }
   },
   "source": [
    "---\n",
    "title: Power Law\n",
    "tags: [probability, distributions]\n",
    "---\n"
   ]
  },
  {
   "cell_type": "markdown",
   "metadata": {
    "pycharm": {
     "name": "#%% md\n"
    }
   },
   "source": [
    "The power law defines a relationship between two quantities where a relative change in one quantity $a$ gives rise to a proportional relative change in the other quantity $b$. The most common example for this relationship is the area of a square in regard to the length of a side. If the length is doubled then the area is multiplied by a factor of four. A similar example where if the length of a side of a cube is doubled then the volume the cube is multiplied by a factor of eight.\n",
    "\n",
    "In general, $x$ and $y$ are in a power law relationship if $\\log{y}$ is linear to $\\log{x}$.\n",
    "\n",
    "$$\\log{y} = b + a \\cdot log{x} \\Leftrightarrow y = e^b + x^a \\Leftrightarrow y = cx^a$$\n",
    "\n",
    "Power laws are very frequent in our life some common examples are:\n",
    "\n",
    "- If a person is popular on social network, he/she will get more popular in the future.\n",
    "- If a person is rich, he/she will get more rich in the future.\n",
    "\n",
    "A power law can be turned into a linear relationship if the quantities are plotted on logarithmic axes.\n",
    "\n",
    "![powerLawLog](/img/programming/powerLawLog.png)\n"
   ]
  }
 ],
 "metadata": {
  "kernelspec": {
   "display_name": "Python 3 (ipykernel)",
   "language": "python",
   "name": "python3"
  },
  "language_info": {
   "codemirror_mode": {
    "name": "ipython",
    "version": 3
   },
   "file_extension": ".py",
   "mimetype": "text/x-python",
   "name": "python",
   "nbconvert_exporter": "python",
   "pygments_lexer": "ipython3",
   "version": "3.8.14"
  }
 },
 "nbformat": 4,
 "nbformat_minor": 4
}
