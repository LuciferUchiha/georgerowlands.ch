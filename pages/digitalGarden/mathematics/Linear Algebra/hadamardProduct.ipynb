{
 "cells": [
  {
   "cell_type": "raw",
   "metadata": {},
   "source": [
    "---\n",
    "title: Hadamard Product\n",
    "tags: [hadamard, linear algebra, matrices, numpy]\n",
    "---"
   ]
  },
  {
   "cell_type": "markdown",
   "metadata": {},
   "source": [
    "The hadamard product is how some people might first think matrix multiplication works, which is wrong. \n",
    "\n",
    "The hadamard product is denoted using $\\mathbf{A} \\odot \\mathbf{B}$ and is also commonly known as the element-wise matrix multiplication which perfectly describes how it works. It is defined for two matrices $\\mathbf{A}$ and $\\mathbf{B}$ of the same dimensions and results in another matrix $\\mathbf{C}$ that has the same dimension as the two input matrices so $\\mathbf{A, B, C} \\in \\mathbb{R}^{N \\times M}$. So each element at $i,j$ in the resulting matrix is the product of the elements at $i,j$ of the two input matrices.\n",
    "\n",
    "$$\n",
    "\\mathbf{A} \\odot \\mathbf{B}=\\begin{bmatrix}\n",
    "    a_{11} & a_{12} & a_{13} \\\\\n",
    "    a_{21} & a_{22} & a_{23} \\\\\n",
    "    a_{31} & a_{32} & a_{33} \\\\\n",
    "\\end{bmatrix} \\odot\n",
    "\\begin{bmatrix}\n",
    "    b_{11} & b_{12} & b_{13} \\\\\n",
    "    b_{21} & b_{22} & b_{23} \\\\\n",
    "    b_{31} & b_{32} & b_{33} \\\\\n",
    "\\end{bmatrix} =\n",
    "\\begin{bmatrix}\n",
    "    a_{11}b_{11} & a_{12}b_{12} & a_{13}b_{13} \\\\\n",
    "    a_{21}b_{21} & a_{22}b_{22} & a_{23}b_{23} \\\\\n",
    "    a_{31}b_{31} & a_{32}b_{32} & a_{33}b_{33} \\\\\n",
    "\\end{bmatrix} \n",
    "$$\n",
    "\n",
    "::: example\n",
    "\n",
    "$$\n",
    "\\begin{bmatrix}\n",
    "    1 & 4 & 7 \\\\\n",
    "    2 & 3 & 8 \\\\\n",
    "    9 & 5 & 6 \n",
    "\\end{bmatrix} \\odot\n",
    "\\begin{bmatrix}\n",
    "    6 & 5 & 8 \\\\\n",
    "    3 & 2 & 9 \\\\\n",
    "    7 & 4 & 1 \n",
    "\\end{bmatrix} =\n",
    "\\begin{bmatrix}\n",
    "    6 & 20 & 56 \\\\\n",
    "    6 & 6 & 72 \\\\\n",
    "    63 & 20 & 6 \n",
    "\\end{bmatrix} \n",
    "$$\n",
    "\n",
    ":::\n",
    "\n",
    "Beginners in numpy often write the following lines of code to multiply two matrices"
   ]
  },
  {
   "cell_type": "code",
   "execution_count": 1,
   "metadata": {},
   "outputs": [
    {
     "data": {
      "text/plain": [
       "array([[ 6, 20, 56],\n",
       "       [ 6,  6, 72],\n",
       "       [63, 20,  6]])"
      ]
     },
     "execution_count": 1,
     "metadata": {},
     "output_type": "execute_result"
    }
   ],
   "source": [
    "import numpy as np\n",
    "\n",
    "A = np.array([[1,4,7],[2,3,8],[9,5,6]])\n",
    "B = np.array([[6,5,8],[3,2,9],[7,4,1]])\n",
    "A * B"
   ]
  },
  {
   "cell_type": "markdown",
   "metadata": {},
   "source": [
    "But as might notice this is the hadamard product/element-wise multiplication. You would get the same result if you used the [`np.multiply(A,B)`](https://numpy.org/doc/stable/reference/generated/numpy.multiply.html) function as this is the function that is called under the hood when using the `*` operator. If you really did want to multiply $\\mathbf{A}$ with $\\mathbf{B}$ you would need to use the `@` operator or [`np.matmul(A,B)`](https://numpy.org/doc/stable/reference/generated/numpy.matmul.html) function.\n",
    "\n",
    "If you try to calculate a hadamard product in numpy where the matrices do not have the same shape you will probably get the following error:\n",
    "\n",
    "`ValueError: operands could not be broadcast together with shapes (2,2) (3,3)`\n",
    "\n",
    "So you can see that the hadamard product only works if A and B are of the same dimension/shape. However, from the error you can also see that there is an exception to this definition \"if the matrices can be broadcast together\". To find out more about broadcasting and how it works check out [this page](./broadcasting.md). "
   ]
  },
  {
   "cell_type": "markdown",
   "metadata": {},
   "source": []
  }
 ],
 "metadata": {
  "kernelspec": {
   "display_name": "Python 3.8.9 ('.venv': venv)",
   "language": "python",
   "name": "python3"
  },
  "language_info": {
   "codemirror_mode": {
    "name": "ipython",
    "version": 3
   },
   "file_extension": ".py",
   "mimetype": "text/x-python",
   "name": "python",
   "nbconvert_exporter": "python",
   "pygments_lexer": "ipython3",
   "version": "3.8.9"
  },
  "orig_nbformat": 4,
  "vscode": {
   "interpreter": {
    "hash": "c4874554c910ab0571857260f9b3a2c29827abeee32c252ce8c2203a14b689e2"
   }
  }
 },
 "nbformat": 4,
 "nbformat_minor": 2
}
