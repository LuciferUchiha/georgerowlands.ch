{
 "cells": [
  {
   "cell_type": "raw",
   "metadata": {},
   "source": [
    "---\n",
    "title: LaTex Notation and Cheat Sheet\n",
    "tags: [notation, cheat sheet, latex, katex, mathjax]\n",
    "---"
   ]
  },
  {
   "cell_type": "markdown",
   "metadata": {},
   "source": [
    "This notation guide is inspired by [Deep Learning by Ian Goodfellow, Yoshua Bengio and Aaron Courville](https://www.deeplearningbook.org/) whilst trying to stay short and compatible with [KaTeX](https://katex.org/docs/supported.html#style-color-size-and-font) (Docusaurus support) and [MathJax](https://docs.mathjax.org/en/latest/input/tex/macros/index.html) (Jupyter Notebook support). This page is also meant as a cheat sheet for me on latex structures such as matrices etc.\n",
    "\n",
    "## Numbers and Arrays\n",
    "\n",
    "If we wanted tensors to also be bold we would have to write `\\mathsf{\\boldsymbol{A}}` which is sadly not nice and short.\n",
    "\n",
    "| Description                                                                        | Code                          | Example                       |\n",
    "| ---------------------------------------------------------------------------------- | ----------------------------- | ----------------------------- |\n",
    "| Scalar (integer or real)                                                           | `a=2`                         | $a$                           |\n",
    "| Vector, lowercase italic bold                                                      | `\\boldsymbol{a}`              | $\\boldsymbol{a}$              |\n",
    "| Matrix, uppercase italic bold                                                      | `\\boldsymbol{A}`              | $\\boldsymbol{A}$              |\n",
    "| Tensor, uppercase sans-serif                                                       | `\\mathsf{A}`                  | $\\mathsf{A}$                  |\n",
    "| Identity matrix with $n$ rows and $n$ columns                                      | `\\boldsymbol{I}_n`            | $\\boldsymbol{I}_n$            |\n",
    "| Identity matrix with implied dimensionality                                        | `\\boldsymbol{I}`              | $\\boldsymbol{I}$              |\n",
    "| Square diagonal matrix with elements along main diagonal given by $\\boldsymbol{a}$ | `\\text{diag}(\\boldsymbol{a})` | $\\text{diag}(\\boldsymbol{a})$ |\n",
    "\n",
    "## Indexing\n",
    "| Description                                                                                                | Code                   | Example                  |\n",
    "| ---------------------------------------------------------------------------------------------------------- | ---------------------- | ------------------------ |\n",
    "| Element $i$ of vector $\\boldsymbol{a}$, with indexing starting at 1                                        | `a_i`                  | $a_i$                    |\n",
    "| All elements of vector $\\boldsymbol{a}$ except for element $i$                                             | `a_{-i}`               | $a_{-i}$                 |\n",
    "| Element $i,j$ of matrix $\\boldsymbol{A}$, with $i$ corresponding to the row index and $j$ the column index | `A_{i,j}` or `a_{ij}`  | $A_{i,j}$ or $a_{ij}$    |\n",
    "| Row $i$ of matrix $\\boldsymbol{A}$                                                                         | `\\boldsymbol{A}_{i,:}` | $\\boldsymbol{A}_{i , :}$ |\n",
    "| Column $j$ of matrix $\\boldsymbol{A}$                                                                      | `\\boldsymbol{A}_{:,j}` | $\\boldsymbol{A}_{: , j}$ |\n",
    "\n",
    "## Linear Algebra Operations\n",
    "\n",
    "| Description                                                              | Code                                 | Example                               |\n",
    "| ------------------------------------------------------------------------ | ------------------------------------ | ------------------------------------- |\n",
    "| Tranpose of matrix $\\boldsymbol{A}$                                      | `\\boldsymbol{A}^T`                   | $\\boldsymbol{A}^T$                    |\n",
    "| Moore-Penrose pseudoinverse of matrix $\\boldsymbol{A}$                   | `\\boldsymbol{A}^\\dagger`             | $\\boldsymbol{A}^\\dagger$              |\n",
    "| Hadamard (element-wise) product of $\\boldsymbol{A}$ and $\\boldsymbol{B}$ | `\\boldsymbol{A} \\odot boldsymbol{B}` | $\\boldsymbol{A} \\odot \\boldsymbol{B}$ |\n",
    "| Determinant of matrix $\\boldsymbol{A}$                                   | `\\text{det}(\\boldsymbol{A})`         | $\\text{det}(\\boldsymbol{A})$          |\n",
    "| Trace of matrix $\\boldsymbol{A}$                                         | `\\text{tr}(\\boldsymbol{A})`          | $\\text{tr}(\\boldsymbol{A})$           |\n",
    "\n",
    "\n",
    "## Sets and Graphs\n",
    "\n",
    "| Description                           | Code                      | Example                   |\n",
    "| ------------------------------------- | ------------------------- | ------------------------- |\n",
    "| Set                                   | `A`                       | $A$                       |\n",
    "| Set of natural numbers, including $0$ | `\\Bbb{N}=\\{0,1,2,3,...\\}` | $\\Bbb{N}=\\{0,1,2,3,...\\}$ |\n",
    "| Set of integer numbers                | `\\Bbb{Z}`                 | $\\Bbb{Z}$                 |\n",
    "| Set of rational numbers               | `\\Bbb{Q}`                 | $\\Bbb{Q}$                 |\n",
    "| Set of irrational numbers             | `\\Bbb{I}`                 | $\\Bbb{I}$                 |\n",
    "| Set of real numbers                   | `\\Bbb{R}`                 | $\\Bbb{R}$                 |\n",
    "| Set of complex numbers                | `\\Bbb{C}`                 | $\\Bbb{C}$                 |\n"
   ]
  },
  {
   "cell_type": "markdown",
   "metadata": {},
   "source": []
  }
 ],
 "metadata": {
  "kernelspec": {
   "display_name": "Python 3.8.9 ('.venv': venv)",
   "language": "python",
   "name": "python3"
  },
  "language_info": {
   "name": "python",
   "version": "3.8.9"
  },
  "orig_nbformat": 4,
  "vscode": {
   "interpreter": {
    "hash": "c4874554c910ab0571857260f9b3a2c29827abeee32c252ce8c2203a14b689e2"
   }
  }
 },
 "nbformat": 4,
 "nbformat_minor": 2
}
