{
 "cells": [
  {
   "cell_type": "markdown",
   "source": [
    "import Callout from \"../../../../components/callout/callout\";\n",
    "\n",
    "# Broadcasting\n",
    "\n",
    "Broadcasting is something special that computer scientists make use of when working with tensors such as scalars, vectors and matrices. It's very useful for computer scientists but it is not really mathematical. It allows libraries like numpy to perform arithmetic operations (element-wise addition or multiplication, also known as [hadamard product](./hadamardProduct.md)) although the arrays have different shapes. If the arrays meet certain constraints then the smaller array is “broadcast” across the larger array so that they have compatible shapes to perform the operation. Let's look at some simple examples of how [broadcasting in numpy](https://numpy.org/doc/stable/user/basics.broadcasting.html) works. We might often want to perform the element-wise multiplication between two different arrays, in this case, vectors of the same shape this works fine."
   ],
   "metadata": {
    "collapsed": false
   }
  },
  {
   "cell_type": "code",
   "execution_count": 1,
   "metadata": {},
   "outputs": [
    {
     "data": {
      "text/plain": [
       "array([2., 4., 6.])"
      ]
     },
     "execution_count": 1,
     "metadata": {},
     "output_type": "execute_result"
    }
   ],
   "source": [
    "import numpy as np\n",
    "\n",
    "a = np.array([1.0, 2.0, 3.0])\n",
    "b = np.array([2.0, 2.0, 2.0])\n",
    "a * b"
   ]
  },
  {
   "cell_type": "markdown",
   "metadata": {},
   "source": [
    "But what about multiplying a vector with a scalar? This is defined mathematically but in numpy these two arrays do not have the same shape yet it still works."
   ]
  },
  {
   "cell_type": "code",
   "execution_count": 2,
   "metadata": {},
   "outputs": [
    {
     "data": {
      "text/plain": [
       "array([2., 4., 6.])"
      ]
     },
     "execution_count": 2,
     "metadata": {},
     "output_type": "execute_result"
    }
   ],
   "source": [
    "b = 2\n",
    "a * b"
   ]
  },
  {
   "cell_type": "markdown",
   "metadata": {},
   "source": [
    "The result is the same as where `b` was an array consisting of only the value 2. So in this case numpy transformed the integer 2 to `np.array([2])` to perform the operation but it also performed broadcasting which we can think of as the array containing the single value 2 being stretched to the same shape as `a`. The new elements in `b` are just copies of the original scalar.\n",
    "\n",
    "<Callout type=\"info\">\n",
    "\n",
    "The stretching analogy is only conceptual. NumPy is smart enough to use the original scalar value without actually making copies so that broadcasting does not waste memory.\n",
    "\n",
    "</Callout>\n",
    "\n",
    "![broadcasting](/maths/broadcasting.png)\n",
    "\n",
    "## Conditions for Broadcasting\n",
    "\n",
    "When checking to see if two arrays have the same shape or have compatible numpy starts with the rightmost dimension and works its way left comparing them element-wise. For two dimensions to be compatible and therefore be broadcasted the following conditions need to be met for the pairs of dimensions:\n",
    "\n",
    "1. The dimensions are equal.\n",
    "2. One of the dimensions is 1 and the other is 1 (first condition) or more.\n",
    "\n",
    "<Callout type=\"info\">\n",
    "\n",
    "Arrays do not need to have the same number of dimensions. For example if you have an RGB image so a 256x256x3 array of intensity values, and you want to scale each color (red, green, blue) in the image by a different value, you can multiply the image by a one-dimensional array with 3 values.\n",
    "\n",
    "```\n",
    "Image  (3d array): 256 x 256 x 3\n",
    "Scale  (1d array):             3\n",
    "Result (3d array): 256 x 256 x 3\n",
    "```\n",
    "\n",
    "</Callout>\n",
    "\n",
    "<Callout type=\"example\">\n",
    "\n",
    "We can also look at some more complex examples such as the following which can still be broadcasted.\n",
    "\n",
    "```\n",
    "A      (4d array):  8 x 1 x 6 x 1\n",
    "B      (3d array):      7 x 1 x 5\n",
    "Result (4d array):  8 x 7 x 6 x 5\n",
    "```\n",
    "\n",
    "</Callout>\n",
    "\n",
    "## Outer Product Using Broadcasting\n",
    "\n",
    "Broadcasting provides a convenient way of taking the outer product of two vectors.\n",
    "\n",
    "![broadcastingOuterProductVector](/maths/broadcastingOuterProductVector.png)\n",
    "\n",
    "However, it is not limited to the outer product of two vectors, it can be used to compute any outer product of two tensors.\n",
    "\n",
    "![broadcastingOuterProduct3Vectors](/maths/broadcastingOuterProduct3Vectors.png)"
   ]
  },
  {
   "cell_type": "code",
   "execution_count": 3,
   "metadata": {},
   "outputs": [
    {
     "data": {
      "text/plain": [
       "array([[ 0.,  0.,  0.],\n",
       "       [10., 20., 30.],\n",
       "       [20., 40., 60.],\n",
       "       [30., 60., 90.]])"
      ]
     },
     "execution_count": 3,
     "metadata": {},
     "output_type": "execute_result"
    }
   ],
   "source": [
    "a = np.array([0.0, 10.0, 20.0, 30.0]).reshape((4,1))\n",
    "b = np.array([1.0, 2.0, 3.0]).reshape((1,3))\n",
    "a*b"
   ]
  },
  {
   "cell_type": "code",
   "execution_count": 4,
   "metadata": {},
   "outputs": [
    {
     "data": {
      "text/plain": [
       "array([[[  0.,   0.,   0.],\n",
       "        [  0.,   0.,   0.],\n",
       "        [  0.,   0.,   0.]],\n",
       "\n",
       "       [[ 10.,  20.,  30.],\n",
       "        [ 20.,  40.,  60.],\n",
       "        [ 30.,  60.,  90.]],\n",
       "\n",
       "       [[ 20.,  40.,  60.],\n",
       "        [ 40.,  80., 120.],\n",
       "        [ 60., 120., 180.]],\n",
       "\n",
       "       [[ 30.,  60.,  90.],\n",
       "        [ 60., 120., 180.],\n",
       "        [ 90., 180., 270.]]])"
      ]
     },
     "execution_count": 4,
     "metadata": {},
     "output_type": "execute_result"
    }
   ],
   "source": [
    "c = np.array([1.0, 2.0, 3.0])\n",
    "a = a.reshape((4,1,1))\n",
    "b = b.reshape((1,3,1))\n",
    "c= c.reshape(1,1,3)\n",
    "a*b*c\n"
   ]
  },
  {
   "cell_type": "markdown",
   "source": [
    "test !"
   ],
   "metadata": {
    "collapsed": false
   }
  },
  {
   "cell_type": "markdown",
   "source": [],
   "metadata": {
    "collapsed": false
   }
  }
 ],
 "metadata": {
  "kernelspec": {
   "display_name": "Python 3.8.9 ('.venv': venv)",
   "language": "python",
   "name": "python3"
  },
  "language_info": {
   "codemirror_mode": {
    "name": "ipython",
    "version": 3
   },
   "file_extension": ".py",
   "mimetype": "text/x-python",
   "name": "python",
   "nbconvert_exporter": "python",
   "pygments_lexer": "ipython3",
   "version": "3.8.9"
  },
  "orig_nbformat": 4,
  "vscode": {
   "interpreter": {
    "hash": "c4874554c910ab0571857260f9b3a2c29827abeee32c252ce8c2203a14b689e2"
   }
  }
 },
 "nbformat": 4,
 "nbformat_minor": 2
}
