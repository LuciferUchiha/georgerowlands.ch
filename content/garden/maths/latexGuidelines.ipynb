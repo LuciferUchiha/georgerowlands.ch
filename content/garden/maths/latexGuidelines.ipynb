{
 "cells": [
  {
   "cell_type": "markdown",
   "metadata": {},
   "source": [
    "# LaTeX Guidelines\n",
    "\n",
    "This notation guide is inspired by [Deep Learning by Ian Goodfellow, Yoshua Bengio and Aaron Courville](https://www.deeplearningbook.org/) whilst trying to stay short and compatible with [KaTeX](https://katex.org/docs/supported.html#style-color-size-and-font) (Docusaurus support) and [MathJax](https://docs.mathjax.org/en/latest/input/tex/macros/index.html) (Jupyter Notebook support). This page is also meant as a cheat sheet for me on latex structures such as matrices etc.\n",
    "\n",
    "## Numbers and Arrays\n",
    "\n",
    "If we wanted tensors to also be bold we would have to write `\\mathsf{\\mathbf{A}}` which is sadly not nice and short.\n",
    "\n",
    "| Description                                                                        | Code                          | Example                       |\n",
    "| ---------------------------------------------------------------------------------- | ----------------------------- | ----------------------------- |\n",
    "| Scalar (integer or real)                                                           | `a=2`                         | $a$                           |\n",
    "| Vector, lowercase bold                                                      | `\\mathbf{a}`              | $\\mathbf{a}$              |\n",
    "| Matrix, uppercase bold                                                      | `\\mathbf{A}`              | $\\mathbf{A}$              |\n",
    "| Tensor, uppercase sans-serif                                                       | `\\mathsf{A}`                  | $\\mathsf{A}$                  |\n",
    "| Identity matrix with $n$ rows and $n$ columns                                      | `\\mathbf{I}_n`            | $\\mathbf{I}_n$            |\n",
    "| Identity matrix with implied dimensionality                                        | `\\mathbf{I}`              | $\\mathbf{I}$              |\n",
    "| Square diagonal matrix with elements along main diagonal given by $\\mathbf{a}$ | `\\text{diag}(\\mathbf{a})` | $\\text{diag}(\\mathbf{a})$ |\n",
    "\n",
    "## Indexing\n",
    "| Description                                                                                                | Code                   | Example                  |\n",
    "| ---------------------------------------------------------------------------------------------------------- | ---------------------- | ------------------------ |\n",
    "| Element $i$ of vector $\\mathbf{a}$, with indexing starting at 1                                        | `a_i`                  | $a_i$                    |\n",
    "| All elements of vector $\\mathbf{a}$ except for element $i$                                             | `a_{-i}`               | $a_{-i}$                 |\n",
    "| Element $i,j$ of matrix $\\mathbf{A}$, with $i$ corresponding to the row index and $j$ the column index | `\\mathbf{A}_{i,j}` or `a_{ij}`  | $\\mathbf{A}_{i,j}$ or $a_{ij}$    |\n",
    "| Row $i$ of matrix $\\mathbf{A}$                                                                         | `\\mathbf{A}_{i,:}` | $\\mathbf{A}_{i , :}$ |\n",
    "| Column $j$ of matrix $\\mathbf{A}$                                                                      | `\\mathbf{A}_{:,j}` | $\\mathbf{A}_{: , j}$ |\n",
    "\n",
    "## Linear Algebra Operations\n",
    "\n",
    "| Description                                                              | Code                                 | Example                               |\n",
    "| ------------------------------------------------------------------------ | ------------------------------------ | ------------------------------------- |\n",
    "| Tranpose of matrix $\\mathbf{A}$                                      | `\\mathbf{A}^T`                   | $\\mathbf{A}^T$                    |\n",
    "| Moore-Penrose pseudoinverse of matrix $\\mathbf{A}$                   | `\\mathbf{A}^\\dagger`             | $\\mathbf{A}^\\dagger$              |\n",
    "| Hadamard (element-wise) product of $\\mathbf{A}$ and $\\mathbf{B}$ | `\\mathbf{A} \\odot mathbf{B}` | $\\mathbf{A} \\odot \\mathbf{B}$ |\n",
    "| Determinant of matrix $\\mathbf{A}$                                   | `\\text{det}(\\mathbf{A})`         | $\\text{det}(\\mathbf{A})$          |\n",
    "| Trace of matrix $\\mathbf{A}$                                         | `\\text{tr}(\\mathbf{A})`          | $\\text{tr}(\\mathbf{A})$           |\n",
    "\n",
    "\n",
    "## Sets and Graphs\n",
    "\n",
    "| Description                           | Code                      | Example                   |\n",
    "| ------------------------------------- | ------------------------- | ------------------------- |\n",
    "| Set                                   | `A`                       | $A$                       |\n",
    "| Set of natural numbers, including $0$ | `\\Bbb{N}=\\{0,1,2,3,...\\}` | $\\Bbb{N}=\\{0,1,2,3,...\\}$ |\n",
    "| Set of integer numbers                | `\\Bbb{Z}`                 | $\\Bbb{Z}$                 |\n",
    "| Set of rational numbers               | `\\Bbb{Q}`                 | $\\Bbb{Q}$                 |\n",
    "| Set of irrational numbers             | `\\Bbb{I}`                 | $\\Bbb{I}$                 |\n",
    "| Set of real numbers                   | `\\Bbb{R}`                 | $\\Bbb{R}$                 |\n",
    "| Set of complex numbers                | `\\Bbb{C}`                 | $\\Bbb{C}$                 |\n"
   ]
  }
 ],
 "metadata": {
  "kernelspec": {
   "display_name": "Python 3.8.9 ('.venv': venv)",
   "language": "python",
   "name": "python3"
  },
  "language_info": {
   "name": "python",
   "version": "3.8.9"
  },
  "orig_nbformat": 4,
  "vscode": {
   "interpreter": {
    "hash": "c4874554c910ab0571857260f9b3a2c29827abeee32c252ce8c2203a14b689e2"
   }
  }
 },
 "nbformat": 4,
 "nbformat_minor": 2
}
